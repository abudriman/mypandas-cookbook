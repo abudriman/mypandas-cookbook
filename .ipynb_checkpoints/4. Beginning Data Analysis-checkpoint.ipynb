{
 "cells": [
  {
   "cell_type": "markdown",
   "metadata": {},
   "source": [
    "# Table of Contents"
   ]
  },
  {
   "cell_type": "markdown",
   "metadata": {},
   "source": [
    "- <a href=\"#1\">1. Developing a data analysis routine<a>\n",
    "- <a href=\"#2\">2. Data dictionaries<a>\n",
    "- <a href=\"#3\">3. Reducing memory by changing data types<a>\n",
    "- <a href=\"#4\">4. Selecting the smalles of the largest<a>\n",
    "- <a href=\"#5\">5. Selecting the largest of each group by sorting<a>\n",
    "- <a href=\"#6\">6. Replicating nlargest with sort_values<a>\n",
    "- <a href=\"#7\">7. Calculating a trailing stop order price<a>"
   ]
  },
  {
   "cell_type": "markdown",
   "metadata": {},
   "source": [
    "### 1. Developing a data analysis routine\n",
    "<a id='1'></a>"
   ]
  },
  {
   "cell_type": "code",
   "execution_count": null,
   "metadata": {},
   "outputs": [],
   "source": []
  }
 ],
 "metadata": {
  "kernelspec": {
   "display_name": "Python 3",
   "language": "python",
   "name": "python3"
  },
  "language_info": {
   "codemirror_mode": {
    "name": "ipython",
    "version": 3
   },
   "file_extension": ".py",
   "mimetype": "text/x-python",
   "name": "python",
   "nbconvert_exporter": "python",
   "pygments_lexer": "ipython3",
   "version": "3.8.5"
  }
 },
 "nbformat": 4,
 "nbformat_minor": 4
}
